{
  "nbformat": 4,
  "nbformat_minor": 0,
  "metadata": {
    "colab": {
      "name": "Untitled5.ipynb",
      "provenance": [],
      "collapsed_sections": [],
      "authorship_tag": "ABX9TyNeGkOM3G5gowmT2zmOBIn2",
      "include_colab_link": true
    },
    "kernelspec": {
      "name": "python3",
      "display_name": "Python 3"
    },
    "language_info": {
      "name": "python"
    }
  },
  "cells": [
    {
      "cell_type": "markdown",
      "metadata": {
        "id": "view-in-github",
        "colab_type": "text"
      },
      "source": [
        "<a href=\"https://colab.research.google.com/github/thepsychopathe10/gomycode-checkpoint/blob/main/Untitled5.ipynb\" target=\"_parent\"><img src=\"https://colab.research.google.com/assets/colab-badge.svg\" alt=\"Open In Colab\"/></a>"
      ]
    },
    {
      "cell_type": "code",
      "execution_count": null,
      "metadata": {
        "colab": {
          "base_uri": "https://localhost:8080/"
        },
        "id": "JjNTjBy5I5Vo",
        "outputId": "2c08994b-8fdc-42bb-da9c-2a5e02f6c13e"
      },
      "outputs": [
        {
          "output_type": "stream",
          "name": "stdout",
          "text": [
            "120\n"
          ]
        }
      ],
      "source": [
        "my_list=[2,3,4,5]\n",
        "x=1\n",
        "for i in my_list:\n",
        "   x = x*i\n",
        "print(x) \n"
      ]
    },
    {
      "cell_type": "code",
      "source": [
        "L=[(2, 5), (1, 2), (4, 4), (2, 3), (2, 1)]\n",
        "\n",
        "L.sort(key=lambda x: x[1])\n",
        "print(L)"
      ],
      "metadata": {
        "colab": {
          "base_uri": "https://localhost:8080/"
        },
        "id": "aR6EOJLYI-G1",
        "outputId": "b416e3df-06ec-4f12-bca0-12e09d923c78"
      },
      "execution_count": null,
      "outputs": [
        {
          "output_type": "stream",
          "name": "stdout",
          "text": [
            "[(2, 1), (1, 2), (2, 3), (4, 4), (2, 5)]\n"
          ]
        }
      ]
    },
    {
      "cell_type": "code",
      "source": [
        "from typing import Counter\n",
        "\n",
        "d1 = Counter({'a': 100, 'b': 200, 'c':300})\n",
        "d2 = Counter({'a': 300, 'b': 200, 'd':400})\n",
        "d3=d1+d2\n",
        "print('d3',str(d3))"
      ],
      "metadata": {
        "colab": {
          "base_uri": "https://localhost:8080/"
        },
        "id": "ziLGReU9JIkA",
        "outputId": "db30a293-3e61-4007-d638-1590dd52f0da"
      },
      "execution_count": null,
      "outputs": [
        {
          "output_type": "stream",
          "name": "stdout",
          "text": [
            "d3 Counter({'a': 400, 'b': 400, 'd': 400, 'c': 300})\n"
          ]
        }
      ]
    },
    {
      "cell_type": "code",
      "source": [
        "n=10\n",
        "d={}\n",
        "for i in range(1,11):\n",
        "   d[i]=i*i\n",
        "print(d)"
      ],
      "metadata": {
        "colab": {
          "base_uri": "https://localhost:8080/"
        },
        "id": "GMrUo4uVJWXO",
        "outputId": "9d085313-5e80-4560-c0e9-f87124b714ff"
      },
      "execution_count": null,
      "outputs": [
        {
          "output_type": "stream",
          "name": "stdout",
          "text": [
            "{1: 1, 2: 4, 3: 9, 4: 16, 5: 25, 6: 36, 7: 49, 8: 64, 9: 81, 10: 100}\n"
          ]
        }
      ]
    },
    {
      "cell_type": "code",
      "source": [
        "T= [('item1', '12.20'), ('item2', '15.10'), ('item3', '24.5')]\n",
        "s=sorted(T)\n",
        "print(s)"
      ],
      "metadata": {
        "colab": {
          "base_uri": "https://localhost:8080/"
        },
        "id": "auX3-GTNJbUO",
        "outputId": "76e7c937-a6ba-461d-e073-1037d73f9bf6"
      },
      "execution_count": null,
      "outputs": [
        {
          "output_type": "stream",
          "name": "stdout",
          "text": [
            "[('item1', '12.20'), ('item2', '15.10'), ('item3', '24.5')]\n"
          ]
        }
      ]
    },
    {
      "cell_type": "code",
      "source": [
        ""
      ],
      "metadata": {
        "id": "3Vp2gcLMJfOM"
      },
      "execution_count": null,
      "outputs": []
    }
  ]
}