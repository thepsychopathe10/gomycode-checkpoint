{
 "cells": [
  {
   "cell_type": "code",
   "execution_count": 3,
   "id": "9213ab56",
   "metadata": {},
   "outputs": [
    {
     "name": "stdout",
     "output_type": "stream",
     "text": [
      "My name is slim10\n"
     ]
    }
   ],
   "source": [
    "print(\"My name is slim\"+\"10\")"
   ]
  },
  {
   "cell_type": "code",
   "execution_count": 4,
   "id": "ead43105-1a32-47ab-b652-df98c9db9b0c",
   "metadata": {},
   "outputs": [],
   "source": [
    "a=5"
   ]
  },
  {
   "cell_type": "code",
   "execution_count": 5,
   "id": "96331bc2-adcf-4005-b29d-5f0034883952",
   "metadata": {},
   "outputs": [
    {
     "data": {
      "text/plain": [
       "125"
      ]
     },
     "execution_count": 5,
     "metadata": {},
     "output_type": "execute_result"
    }
   ],
   "source": [
    "a*a*a"
   ]
  },
  {
   "cell_type": "code",
   "execution_count": null,
   "id": "b3516f29-7c75-46ae-898a-d4f95722b09f",
   "metadata": {},
   "outputs": [],
   "source": []
  }
 ],
 "metadata": {
  "kernelspec": {
   "display_name": "Python 3 (ipykernel)",
   "language": "python",
   "name": "python3"
  },
  "language_info": {
   "codemirror_mode": {
    "name": "ipython",
    "version": 3
   },
   "file_extension": ".py",
   "mimetype": "text/x-python",
   "name": "python",
   "nbconvert_exporter": "python",
   "pygments_lexer": "ipython3",
   "version": "3.9.7"
  }
 },
 "nbformat": 4,
 "nbformat_minor": 5
}
